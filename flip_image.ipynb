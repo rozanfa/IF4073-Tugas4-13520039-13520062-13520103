{
 "cells": [
  {
   "cell_type": "code",
   "execution_count": 2,
   "metadata": {},
   "outputs": [],
   "source": [
    "import os\n",
    "\n",
    "def list_full_dir(path):\n",
    "    return [path + f for f in os.listdir(path)]"
   ]
  },
  {
   "cell_type": "code",
   "execution_count": 21,
   "metadata": {},
   "outputs": [],
   "source": [
    "# importing PIL Module\n",
    "from PIL import Image\n",
    "\n",
    "files = list_full_dir(\"dataset/valid/car/\")\n",
    "for file in files:\n",
    "    # open the original image\n",
    "    original_img = Image.open(file).convert(\"RGB\")\n",
    "    \n",
    "    # Flip the original image horizontally\n",
    "    horz_img = original_img.transpose(method=Image.FLIP_LEFT_RIGHT)\n",
    "    ext = file.split(\".\")[-1]\n",
    "    horz_img.save(file + \"_flipped.\"  + ext)\n",
    "    \n",
    "    # close all our files object\n",
    "    original_img.close()\n",
    "    horz_img.close()"
   ]
  }
 ],
 "metadata": {
  "kernelspec": {
   "display_name": "Python 3",
   "language": "python",
   "name": "python3"
  },
  "language_info": {
   "codemirror_mode": {
    "name": "ipython",
    "version": 3
   },
   "file_extension": ".py",
   "mimetype": "text/x-python",
   "name": "python",
   "nbconvert_exporter": "python",
   "pygments_lexer": "ipython3",
   "version": "3.11.5"
  }
 },
 "nbformat": 4,
 "nbformat_minor": 2
}
